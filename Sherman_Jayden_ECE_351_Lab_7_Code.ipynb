{
 "cells": [
  {
   "cell_type": "markdown",
   "id": "1da2b307-85e0-4b03-bc03-e21e8aeb6cd5",
   "metadata": {},
   "source": [
    "<h1 style=\"text-align: center;\">Block Diagrams and System Stability</h1>\n",
    "<p style=\"text-align: center;\">Lab 7</p>\n",
    "<p style=\"text-align: center;\">Spring 2024</p>"
   ]
  },
  {
   "cell_type": "markdown",
   "id": "6a4c3e8c-943d-4e0b-b078-c1daedde0670",
   "metadata": {},
   "source": [
    "### 1. Purpose \n",
    "Become familiar with Laplace-domain block diagrams and use the factored form of the transfer function to judge system stability. \n",
    "\n",
    "### 2. Deliverables Overview \n",
    "##### Part 1  \n",
    "[ ] Equations for the transfer functions in **Task 1**.  \n",
    "[ ] Printed output using **scipy.signal.tf2zpk()** for **Task 2**.  \n",
    "[ ] Equation of the open-loop transfer function for **Task 3**\n",
    "[ ] Plot showing the step response of the open-loop transfer function for **Task 4**.\n",
    "  \n",
    "##### Part 2\n",
    "[ ] Equation of the closed-loop transfer function for **Task 1**\n",
    "[ ] Printed output and numerical equations using **scipy.signal.tf2zpk()** for **Task 2**.  \n",
    "[ ] Plot showing the step response of the open-loop transfer function for **Task 3**. \n",
    "\n",
    "![Block diagram](BlockDiagram1.png)\n",
    "\n",
    "$$ G(s) = \\frac{s + 9}{(s^2 - 6s - 16)(s + 4)} $$  \n",
    "$$ A(s) = \\frac{s + 4}{S^2 + 4s +3} $$  \n",
    "$$ B(s) = s^2 + 26s + 168 $$\n",
    "\n",
    "### 3. Part 1\n",
    "##### 3.1 Purpose\n",
    "Analyze a block diagram and learn how to use Python functions to perform the same analysis.  \n",
    "##### 3.2 Tasks   \n",
    "1. Type $G(s)$, $A(s)$, and $B(s)$ in factored form, isolating the poles and zeros. Identify the poles and zeros of each function."
   ]
  },
  {
   "cell_type": "markdown",
   "id": "8920ea03-4960-484d-a2eb-7bcfaecc1356",
   "metadata": {},
   "source": [
    "Factored form of $G(s)$:  \n",
    ">$G(s)=\\frac{s+9}{(s-8)(s+2)(s+4)}$\n",
    "\n",
    "Factored form of $A(s)$:  \n",
    ">$A(s)=\\frac{s+4}{(s+1)(s+3)}$\n",
    "\n",
    "Factored form of $B(s)$:  \n",
    ">$B(s)=(s+12)(s+14)$\n",
    "\n",
    "Poles of $G(s)$:  \n",
    ">$s=8, s=-2, s=-4$\n",
    "\n",
    "Poles of $A(s)$:  \n",
    ">$s=-1, s=-3$  \n",
    "\n",
    "Poles of $B(s)$:  \n",
    ">none  \n",
    "\n",
    "Zeros of $G(s)$:  \n",
    ">$s=-9$\n",
    "\n",
    "Zeros of $A(s)$:  \n",
    ">$s=-4$ \n",
    "\n",
    "Zeros of $B(s)$:  \n",
    ">$s=-12, s=-14$"
   ]
  },
  {
   "cell_type": "markdown",
   "id": "2de80da6-6920-4d79-8c50-f32eb515b932",
   "metadata": {},
   "source": [
    "###### 3.2.1 Example Code  \n",
    "The following example code uses **scipy.signal.convolve()** to expand a factored transfer function, described by $H(s) = \\frac{(8s + 1)(2s +3)}{(9s^2 + 2s)(s + 4)}$."
   ]
  },
  {
   "cell_type": "code",
   "execution_count": 24,
   "id": "b1d07604-290e-4249-a120-b1e408eeaeba",
   "metadata": {
    "scrolled": true,
    "tags": []
   },
   "outputs": [
    {
     "name": "stdout",
     "output_type": "stream",
     "text": [
      "Expanded Numerator: [16 26  3]\n",
      "Expanded Denominator: [ 9 38  8  0]\n"
     ]
    }
   ],
   "source": [
    "import scipy.signal as sig\n",
    "\n",
    "num = sig.convolve([8, 1], [2, 3])\n",
    "den = sig.convolve([9, 2, 0], [1, 4])\n",
    "\n",
    "print(f\"Expanded Numerator: {num}\\nExpanded Denominator: {den}\")"
   ]
  },
  {
   "cell_type": "markdown",
   "id": "3f0d6886-4d55-4a5c-8d13-a4a1eae26e64",
   "metadata": {},
   "source": [
    "Making the expanded transfer function $H(s) = \\frac{16s^2 + 26s + 3}{9s^3 + 38s^2 + 8s}$.  "
   ]
  },
  {
   "cell_type": "markdown",
   "id": "1fb5cf7e-ff52-4ffa-922c-db729f323448",
   "metadata": {},
   "source": [
    "2. Use the **scipy.signal.tf2zpk()** function to check your results from **Task 1** and print the output. *Note: since $B(s)$ has a denominator of 1, you may use **numpy.roots()** instead*."
   ]
  },
  {
   "cell_type": "code",
   "execution_count": 25,
   "id": "ed62157f-1de3-4ce8-96df-61d52f67918a",
   "metadata": {
    "tags": []
   },
   "outputs": [],
   "source": [
    "# Insert all necessary imports here\n",
    "import scipy.signal as sig\n",
    "import matplotlib.pyplot as plt\n",
    "import numpy as np"
   ]
  },
  {
   "cell_type": "code",
   "execution_count": 26,
   "id": "dd3ce0b8-3931-4467-8d68-0a09cb717fd1",
   "metadata": {
    "tags": []
   },
   "outputs": [
    {
     "name": "stdout",
     "output_type": "stream",
     "text": [
      "Zeros (Z): [-9.]\n",
      "Poles (P): [ 8. -4. -2.]\n",
      "Zeros (Z): [-4.]\n",
      "Poles (P): [-3. -1.]\n",
      "Zeros (Z): [-14. -12.]\n",
      "Poles (P): none\n"
     ]
    }
   ],
   "source": [
    "# Insert code for Part 1 Task 2 here\n",
    "numG = (1, 9)\n",
    "denG = sig.convolve([1, -6, -16], [1, 4])\n",
    "\n",
    "Z, P, K = sig.tf2zpk(numG, denG)\n",
    "\n",
    "print(\"Zeros (Z):\", Z)\n",
    "print(\"Poles (P):\", P)\n",
    "\n",
    "numA = (1, 4)\n",
    "denA = (1, 4, 3)\n",
    "\n",
    "Z, P, K = sig.tf2zpk(numA, denA)\n",
    "\n",
    "print(\"Zeros (Z):\", Z)\n",
    "print(\"Poles (P):\", P)\n",
    "\n",
    "numB = [1, 26, 168]\n",
    "\n",
    "Z = np.roots(numB)\n",
    "\n",
    "print(\"Zeros (Z):\", Z)\n",
    "print(\"Poles (P): none\")"
   ]
  },
  {
   "cell_type": "markdown",
   "id": "7b165a4b-bf1f-4c5e-96a2-52f3bd431e3b",
   "metadata": {},
   "source": [
    "3. Type and properly format the open-loop transfer function where $x(t)$ is the input and $y(t)$ is the output. Keep your answer in factored form."
   ]
  },
  {
   "cell_type": "markdown",
   "id": "fbcc4cae-5649-4442-8281-fbe1d392d4f9",
   "metadata": {},
   "source": [
    "Insert the open-loop transfer function here:  \n",
    "$$ H(s) = \\frac{s+9}{(s-8)(s+1)(s+2)(s+3)} $$"
   ]
  },
  {
   "cell_type": "markdown",
   "id": "3d02cd0b-90fb-4117-96de-6d95d9047907",
   "metadata": {},
   "source": [
    "4. Plot the step response of the open-loop transfer function. Use **scipy.signal.convolve()** to expand the numerator and denominator of the open-loop transfer function. "
   ]
  },
  {
   "cell_type": "code",
   "execution_count": 30,
   "id": "f6c802a0-3c60-4357-b430-87271061e23c",
   "metadata": {
    "tags": []
   },
   "outputs": [
    {
     "data": {
      "image/png": "[encoded data removed]",
      "text/plain": [
       "<Figure size 640x480 with 1 Axes>"
      ]
     },
     "metadata": {},
     "output_type": "display_data"
    }
   ],
   "source": [
    "# Insert code plotting the step response of the open-loop transfer function here\n",
    "numh = [1, 9]\n",
    "denh = sig.convolve(sig.convolve([1, -8], [1, 1]), sig.convolve([1, 2], [1, 3]))\n",
    "\n",
    "tout, yout = sig.step((numh, denh))\n",
    "\n",
    "plt.figure()\n",
    "plt.suptitle(\"Open Loop Step Response plot\")\n",
    "\n",
    "plt.plot(tout,yout)\n",
    "plt.grid()\n",
    "plt.ylabel(\"H(s)*1/s\")\n",
    "plt.xlabel(\"s\")\n",
    "\n",
    "plt.tight_layout()\n",
    "plt.show()"
   ]
  },
  {
   "cell_type": "markdown",
   "id": "2073d86f-d1af-4198-9aeb-728468adb7ab",
   "metadata": {},
   "source": [
    "### 4. Part 2\n",
    "##### 4.1 Purpose\n",
    "Become more familiar with using Python for analyzing block diagrams and stability of closed-loop systems.\n",
    "##### 4.2 Tasks   \n",
    "1. Type the closed-loop transfer function for the given block diagram symbolically in terms of each blocks numerator and denominator (i.e., numG, denG, ...)."
   ]
  },
  {
   "cell_type": "markdown",
   "id": "72ed4640-a06e-4aa3-ae64-56f60df0cc26",
   "metadata": {},
   "source": [
    "Insert the closed-loop transfer function here:  \n",
    "$$ H(s) = \\frac{numA}{denA}*\\left[\\frac{\\frac{numG}{denG}}{1+numB*\\frac{numG}{denG}}\\right] = \\frac{numA*numG}{denA(denG+numB*numG)}$$"
   ]
  },
  {
   "cell_type": "markdown",
   "id": "3fecb635-adfc-45ca-874a-3cda476ab6df",
   "metadata": {},
   "source": [
    "2. Using **scipy.signal.convolve()** and **scipy.signal.tf2zpk()** to perform all the arithmetic, find numerical values for the total numerator and denominator, find poles and zeros, then type the resulting numeric transfer function in both expanded and factored form."
   ]
  },
  {
   "cell_type": "code",
   "execution_count": 28,
   "id": "a37d42f5-3b2f-40e4-8430-c247fa7afad6",
   "metadata": {
    "tags": []
   },
   "outputs": [
    {
     "name": "stdout",
     "output_type": "stream",
     "text": [
      "numH =  [ 1 13 36]\n",
      "denJ =  [   2   41  500 2995 6878 4344]\n",
      "Zeros (Z): [-9. -4.]\n",
      "Poles (P): [-5.16237064+9.51798197j -5.16237064-9.51798197j -6.17525872+0.j\n",
      " -3.        +0.j         -1.        +0.j        ]\n"
     ]
    }
   ],
   "source": [
    "# Insert code for Part 2 Task 2 here\n",
    "numH = sig.convolve(numA, numG)\n",
    "denH = sig.convolve(denG + sig.convolve(numB, numG), denA)\n",
    "\n",
    "print(\"numH = \", numH)\n",
    "print(\"denJ = \", denH)\n",
    "\n",
    "Z, P, K = sig.tf2zpk(numH, denH)\n",
    "\n",
    "print(\"Zeros (Z):\", Z)\n",
    "print(\"Poles (P):\", P)"
   ]
  },
  {
   "cell_type": "markdown",
   "id": "a7fbad9e-0cf5-4668-a494-0c5f16d3bece",
   "metadata": {},
   "source": [
    "Insert the expanded numeric closed-loop transfer function here:  \n",
    "$$ H(s) = \\frac{s^2+13s+36}{2s^5+41s^4+500s^3+2995s^2+6878s+4344}$$"
   ]
  },
  {
   "cell_type": "markdown",
   "id": "2c9e4d7e-517d-4592-955c-8c432654a443",
   "metadata": {},
   "source": [
    "Insert the factored numeric closed-loop transfer function here:  \n",
    "$$ H(s) = \\frac{(s-9)(s-4)}{(s+1)(s+3)(s+6.17)(s+5.16+j9.51)(s+5.16-j9.51)}$$"
   ]
  },
  {
   "cell_type": "markdown",
   "id": "eaea8c55-507b-497e-a19f-3b622d7a85ad",
   "metadata": {},
   "source": [
    "3. Plot the step response of the closed-loop transfer function using **scipy.signal.step()**."
   ]
  },
  {
   "cell_type": "code",
   "execution_count": 31,
   "id": "737cdb59-e367-4f82-884d-2daf21f2d2e3",
   "metadata": {
    "tags": []
   },
   "outputs": [
    {
     "data": {
      "image/png": "[encoded data removed]",
      "text/plain": [
       "<Figure size 640x480 with 1 Axes>"
      ]
     },
     "metadata": {},
     "output_type": "display_data"
    }
   ],
   "source": [
    "# Insert code for Part 2 Task 3 here\n",
    "tout, yout = sig.step((numH, denH))\n",
    "\n",
    "plt.figure()\n",
    "plt.suptitle(\"Closed Loop Step Response plot\")\n",
    "\n",
    "plt.plot(tout,yout)\n",
    "plt.grid()\n",
    "plt.ylabel(\"H(s)*1/s\")\n",
    "plt.xlabel(\"t [s]\")\n",
    "\n",
    "plt.tight_layout()\n",
    "plt.show()"
   ]
  },
  {
   "cell_type": "markdown",
   "id": "44dbcc80-5641-425f-8bfb-40629f26fa61",
   "metadata": {},
   "source": [
    "### 5. Questions\n",
    "1. Considering the expression found in **Part 1, Task 3**, is the open-loop response stable? Explain why or why not.    \n",
    ">The open-loop response in not stable because of the positive real pole s = 8. \n",
    "2. Does the plot from **Part 1, Task 4** support your answer to **Question 1**? Explain how or how it does not.  \n",
    ">The plot supports my answer because as the value of s approaches 8, the response sharply increases and exceeds $4 \\times 10^{21}$.\n",
    "3. In **Part 1, Task 4**, why does convolving the factored terms using **scipy.signal.convolve()** result in the expanded form of the numerator and denominator? Would this work with your user-defined convolution function from **Lab 3**? Why or why not?  \n",
    ">Convolution in the s-domain is multiplication in the time-domain. My convolution function would not work for this purpose because it uses time to convolve two functions and is similar to graphical convolution in execution.\n",
    "4. Using the closed-loop transfer function found in **Part 2, Task 1**, is the closed-loop response stable? Explain why or why not.\n",
    ">The closed-loop response is stable because all of its poles have negative real parts.  \n",
    "5. Does the result from **Part 2, Task 3** support your answer to **Question 4**? Explain how or how it does not.  \n",
    ">The graph supports my previous answer because it can be observed that the response does not exhibit a rapid increase to an extremely high value, but rather levels off near zero. \n",
    "6. What is the difference between **scipy.signal.residue()** used in **Lab 6** and **scipy.signal.tf2zpk()** used in this lab?  \n",
    ">The \"residue\" function is used to determine the partial fraction decomposition of a transfer function, aiding in the analysis of its time response. On the other hand, the \"tf2zpk\" function factors and identifies the zeros and poles of a transfer function, contributing to the assessment of system stability.\n",
    "7. Is it possible for an open-loop system to be stable? What about for a closed-loop system to be unstable? Explain how or how it is not for each.  \n",
    ">An open-loop system can be stable if the poles of its transfer function have negative real parts. In a closed-loop system, stability depends on both the stability of the open-loop system and the feedback mechanism; the closed-loop system is stable if all poles of the closed-loop transfer function have negative real parts.\n",
    "8. Leave any feedback on the clarity of lab tasks, expectations, and deliverables.  \n",
    ">NA"
   ]
  }
 ],
 "metadata": {
  "kernelspec": {
   "display_name": "Python 3 (ipykernel)",
   "language": "python",
   "name": "python3"
  },
  "language_info": {
   "codemirror_mode": {
    "name": "ipython",
    "version": 3
   },
   "file_extension": ".py",
   "mimetype": "text/x-python",
   "name": "python",
   "nbconvert_exporter": "python",
   "pygments_lexer": "ipython3",
   "version": "3.11.5"
  }
 },
 "nbformat": 4,
 "nbformat_minor": 5
}
